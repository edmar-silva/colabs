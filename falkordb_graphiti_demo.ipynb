{
  "cells": [
    {
      "cell_type": "markdown",
      "metadata": {
        "id": "view-in-github",
        "colab_type": "text"
      },
      "source": [
        "<a href=\"https://colab.research.google.com/github/edmar-silva/colabs/blob/main/falkordb_graphiti_demo.ipynb\" target=\"_parent\"><img src=\"https://colab.research.google.com/assets/colab-badge.svg\" alt=\"Open In Colab\"/></a>"
      ]
    },
    {
      "cell_type": "markdown",
      "metadata": {
        "id": "1db09360"
      },
      "source": [
        "# 📊 How to Build a Knowledge Graph with FalkorDB & Graphiti\n",
        "### 🗓️ July 29 | 10:00 AM PDT | 1:00 PM EDT | 7:00 PM CEST\n",
        "\n",
        "**Workshop Overview:**\n",
        "- 🧠 Build knowledge graphs from structured + unstructured data\n",
        "- ⚽ Case study: Football/Soccer data knowledge graph\n",
        "- 🚀 Powered by Zep's [Graphiti](https://zep.dev) and [FalkorDB](https://www.falkordb.com/)\n",
        "\n",
        "---\n"
      ]
    },
    {
      "cell_type": "markdown",
      "metadata": {
        "id": "3ed9955d"
      },
      "source": [
        "## 🎯 Learning Objectives\n",
        "\n",
        "By the end of this workshop, you'll know how to:\n",
        "\n",
        "1. **🔄 Data Transformation**: Convert structured & unstructured data into graph form\n",
        "2. **⚙️ Automation**: Automate data ingestion using Graphiti's pipelines\n",
        "3. **🔍 Smart Retrieval**: Enable semantic search & question retrieval from graphs\n",
        "4. **📈 Real-time Updates**: Keep your knowledge graph current with new information\n",
        "\n",
        "---"
      ]
    },
    {
      "cell_type": "markdown",
      "metadata": {
        "id": "HQAFPq62U3HC"
      },
      "source": [
        "## 🛠️ Setup & Installation\n",
        "\n",
        "First, let's install the required dependencies:"
      ]
    },
    {
      "cell_type": "code",
      "execution_count": null,
      "metadata": {
        "colab": {
          "base_uri": "https://localhost:8080/"
        },
        "id": "4wuzDOX5QeDn",
        "outputId": "8e621992-3fef-46a4-80b6-ca638ed8ecf3"
      },
      "outputs": [
        {
          "output_type": "stream",
          "name": "stdout",
          "text": [
            "Requirement already satisfied: graphiti-core==v0.17.7 in /usr/local/lib/python3.11/dist-packages (from graphiti-core[falkordb]==v0.17.7) (0.17.7)\n",
            "Requirement already satisfied: diskcache>=5.6.3 in /usr/local/lib/python3.11/dist-packages (from graphiti-core==v0.17.7->graphiti-core[falkordb]==v0.17.7) (5.6.3)\n",
            "Requirement already satisfied: neo4j>=5.26.0 in /usr/local/lib/python3.11/dist-packages (from graphiti-core==v0.17.7->graphiti-core[falkordb]==v0.17.7) (5.28.2)\n",
            "Requirement already satisfied: numpy>=1.0.0 in /usr/local/lib/python3.11/dist-packages (from graphiti-core==v0.17.7->graphiti-core[falkordb]==v0.17.7) (2.0.2)\n",
            "Requirement already satisfied: openai>=1.91.0 in /usr/local/lib/python3.11/dist-packages (from graphiti-core==v0.17.7->graphiti-core[falkordb]==v0.17.7) (1.98.0)\n",
            "Requirement already satisfied: posthog>=3.0.0 in /usr/local/lib/python3.11/dist-packages (from graphiti-core==v0.17.7->graphiti-core[falkordb]==v0.17.7) (6.4.1)\n",
            "Requirement already satisfied: pydantic>=2.11.5 in /usr/local/lib/python3.11/dist-packages (from graphiti-core==v0.17.7->graphiti-core[falkordb]==v0.17.7) (2.11.7)\n",
            "Requirement already satisfied: python-dotenv>=1.0.1 in /usr/local/lib/python3.11/dist-packages (from graphiti-core==v0.17.7->graphiti-core[falkordb]==v0.17.7) (1.1.1)\n",
            "Requirement already satisfied: tenacity>=9.0.0 in /usr/local/lib/python3.11/dist-packages (from graphiti-core==v0.17.7->graphiti-core[falkordb]==v0.17.7) (9.1.2)\n",
            "Requirement already satisfied: falkordb<2.0.0,>=1.1.2 in /usr/local/lib/python3.11/dist-packages (from graphiti-core[falkordb]==v0.17.7) (1.2.0)\n",
            "Requirement already satisfied: python-dateutil<3.0.0,>=2.9.0 in /usr/local/lib/python3.11/dist-packages (from falkordb<2.0.0,>=1.1.2->graphiti-core[falkordb]==v0.17.7) (2.9.0.post0)\n",
            "Requirement already satisfied: redis<6.0.0,>=5.0.1 in /usr/local/lib/python3.11/dist-packages (from falkordb<2.0.0,>=1.1.2->graphiti-core[falkordb]==v0.17.7) (5.3.1)\n",
            "Requirement already satisfied: pytz in /usr/local/lib/python3.11/dist-packages (from neo4j>=5.26.0->graphiti-core==v0.17.7->graphiti-core[falkordb]==v0.17.7) (2025.2)\n",
            "Requirement already satisfied: anyio<5,>=3.5.0 in /usr/local/lib/python3.11/dist-packages (from openai>=1.91.0->graphiti-core==v0.17.7->graphiti-core[falkordb]==v0.17.7) (4.9.0)\n",
            "Requirement already satisfied: distro<2,>=1.7.0 in /usr/local/lib/python3.11/dist-packages (from openai>=1.91.0->graphiti-core==v0.17.7->graphiti-core[falkordb]==v0.17.7) (1.9.0)\n",
            "Requirement already satisfied: httpx<1,>=0.23.0 in /usr/local/lib/python3.11/dist-packages (from openai>=1.91.0->graphiti-core==v0.17.7->graphiti-core[falkordb]==v0.17.7) (0.28.1)\n",
            "Requirement already satisfied: jiter<1,>=0.4.0 in /usr/local/lib/python3.11/dist-packages (from openai>=1.91.0->graphiti-core==v0.17.7->graphiti-core[falkordb]==v0.17.7) (0.10.0)\n",
            "Requirement already satisfied: sniffio in /usr/local/lib/python3.11/dist-packages (from openai>=1.91.0->graphiti-core==v0.17.7->graphiti-core[falkordb]==v0.17.7) (1.3.1)\n",
            "Requirement already satisfied: tqdm>4 in /usr/local/lib/python3.11/dist-packages (from openai>=1.91.0->graphiti-core==v0.17.7->graphiti-core[falkordb]==v0.17.7) (4.67.1)\n",
            "Requirement already satisfied: typing-extensions<5,>=4.11 in /usr/local/lib/python3.11/dist-packages (from openai>=1.91.0->graphiti-core==v0.17.7->graphiti-core[falkordb]==v0.17.7) (4.14.1)\n",
            "Requirement already satisfied: requests<3.0,>=2.7 in /usr/local/lib/python3.11/dist-packages (from posthog>=3.0.0->graphiti-core==v0.17.7->graphiti-core[falkordb]==v0.17.7) (2.32.3)\n",
            "Requirement already satisfied: six>=1.5 in /usr/local/lib/python3.11/dist-packages (from posthog>=3.0.0->graphiti-core==v0.17.7->graphiti-core[falkordb]==v0.17.7) (1.17.0)\n",
            "Requirement already satisfied: backoff>=1.10.0 in /usr/local/lib/python3.11/dist-packages (from posthog>=3.0.0->graphiti-core==v0.17.7->graphiti-core[falkordb]==v0.17.7) (2.2.1)\n",
            "Requirement already satisfied: annotated-types>=0.6.0 in /usr/local/lib/python3.11/dist-packages (from pydantic>=2.11.5->graphiti-core==v0.17.7->graphiti-core[falkordb]==v0.17.7) (0.7.0)\n",
            "Requirement already satisfied: pydantic-core==2.33.2 in /usr/local/lib/python3.11/dist-packages (from pydantic>=2.11.5->graphiti-core==v0.17.7->graphiti-core[falkordb]==v0.17.7) (2.33.2)\n",
            "Requirement already satisfied: typing-inspection>=0.4.0 in /usr/local/lib/python3.11/dist-packages (from pydantic>=2.11.5->graphiti-core==v0.17.7->graphiti-core[falkordb]==v0.17.7) (0.4.1)\n",
            "Requirement already satisfied: idna>=2.8 in /usr/local/lib/python3.11/dist-packages (from anyio<5,>=3.5.0->openai>=1.91.0->graphiti-core==v0.17.7->graphiti-core[falkordb]==v0.17.7) (3.10)\n",
            "Requirement already satisfied: certifi in /usr/local/lib/python3.11/dist-packages (from httpx<1,>=0.23.0->openai>=1.91.0->graphiti-core==v0.17.7->graphiti-core[falkordb]==v0.17.7) (2025.7.14)\n",
            "Requirement already satisfied: httpcore==1.* in /usr/local/lib/python3.11/dist-packages (from httpx<1,>=0.23.0->openai>=1.91.0->graphiti-core==v0.17.7->graphiti-core[falkordb]==v0.17.7) (1.0.9)\n",
            "Requirement already satisfied: h11>=0.16 in /usr/local/lib/python3.11/dist-packages (from httpcore==1.*->httpx<1,>=0.23.0->openai>=1.91.0->graphiti-core==v0.17.7->graphiti-core[falkordb]==v0.17.7) (0.16.0)\n",
            "Requirement already satisfied: PyJWT>=2.9.0 in /usr/local/lib/python3.11/dist-packages (from redis<6.0.0,>=5.0.1->falkordb<2.0.0,>=1.1.2->graphiti-core[falkordb]==v0.17.7) (2.10.1)\n",
            "Requirement already satisfied: charset-normalizer<4,>=2 in /usr/local/lib/python3.11/dist-packages (from requests<3.0,>=2.7->posthog>=3.0.0->graphiti-core==v0.17.7->graphiti-core[falkordb]==v0.17.7) (3.4.2)\n",
            "Requirement already satisfied: urllib3<3,>=1.21.1 in /usr/local/lib/python3.11/dist-packages (from requests<3.0,>=2.7->posthog>=3.0.0->graphiti-core==v0.17.7->graphiti-core[falkordb]==v0.17.7) (2.5.0)\n"
          ]
        }
      ],
      "source": [
        "# Install Graphiti with FalkorDB support\n",
        "!pip install graphiti-core[falkordb]==v0.17.7"
      ]
    },
    {
      "cell_type": "markdown",
      "metadata": {
        "id": "AxVDKtlFQeDp"
      },
      "source": [
        "## 📦 Import Libraries & Setup Environment\n",
        "\n",
        "Let's import all necessary libraries and set up our environment:\n",
        "\n"
      ]
    },
    {
      "cell_type": "code",
      "execution_count": null,
      "metadata": {
        "id": "9G1zw3eHQeDp"
      },
      "outputs": [],
      "source": [
        "import os\n",
        "import json\n",
        "import requests\n",
        "import pandas as pd\n",
        "from bs4 import BeautifulSoup\n",
        "from google.colab import userdata\n",
        "from graphiti_core import Graphiti\n",
        "from datetime import datetime, timezone\n",
        "from graphiti_core.nodes import EpisodeType\n",
        "from graphiti_core.driver.falkordb_driver import FalkorDriver\n",
        "from graphiti_core.search.search_config_recipes import NODE_HYBRID_SEARCH_RRF\n",
        "\n",
        "# Configuration\n",
        "os.environ[\"MODEL_NAME\"] = \"gpt-4.1\"\n",
        "group_id = \"la-liga\""
      ]
    },
    {
      "cell_type": "markdown",
      "metadata": {
        "id": "TonzCTeeQeDp"
      },
      "source": [
        "## 🔧 Helper Functions\n",
        "\n",
        "Let's define utility functions for data processing and graph operations:\n",
        "\n",
        "\n",
        "\n"
      ]
    },
    {
      "cell_type": "code",
      "execution_count": null,
      "metadata": {
        "id": "IWDbNVfPT4G8"
      },
      "outputs": [],
      "source": [
        "async def add_episodes_to_graph(graphiti, episodes, group_id, prefix=\"Episode\"):\n",
        "    \"\"\"Add a list of episodes to the graph using Graphiti.\"\"\"\n",
        "    print(f\"📝 Adding {len(episodes)} episodes to graph...\")\n",
        "\n",
        "    for i, episode in enumerate(episodes):\n",
        "        name = episode.get('name', f\"{prefix} {i+1}\")\n",
        "        content = episode['content']\n",
        "\n",
        "        # Convert non-string content to JSON\n",
        "        if not isinstance(content, str):\n",
        "            content = json.dumps(content)\n",
        "\n",
        "        # Graphiti method for addin data\n",
        "        await graphiti.add_episode(\n",
        "            name=name,\n",
        "            episode_body=content,\n",
        "            source=episode['type'],\n",
        "            source_description=episode['description'],\n",
        "            reference_time=datetime.now(timezone.utc),\n",
        "            group_id=group_id\n",
        "        )\n",
        "\n",
        "    print(f\"✅ Successfully added {len(episodes)} episodes!\")\n",
        "\n",
        "\n",
        "def get_standing_table(url, teams_filter, date):\n",
        "    \"\"\"Extract La Liga standings from Wikipedia.\"\"\"\n",
        "    print(f\"🏆 Fetching standings data for {date}...\")\n",
        "\n",
        "    standing_table = pd.read_html(url)[5]\n",
        "\n",
        "    # Clean and rename columns\n",
        "    standing_table = standing_table.rename(columns={\n",
        "        \"Teamvte\": \"TeamName\",\n",
        "        \"Pts\": \"Season Points\",\n",
        "        \"Pos\": \"Season Position\",\n",
        "        \"W\": \"Season Wins\"\n",
        "    })\n",
        "\n",
        "    standing_table = standing_table[[\"TeamName\", \"Season Points\", \"Season Position\", \"Season Wins\"]]\n",
        "\n",
        "    # Clean team names (remove champion indicator)\n",
        "    standing_table.at[0, \"TeamName\"] = standing_table.at[0, \"TeamName\"].replace(\" (C)\", \"\")\n",
        "    standing_table['Relevant Period'] = date\n",
        "\n",
        "    episodes = []\n",
        "    for row in standing_table.to_dict(orient=\"records\"):\n",
        "        if row[\"TeamName\"] in teams_filter:\n",
        "            episode = {\n",
        "                \"content\": row,\n",
        "                \"type\": EpisodeType.json,\n",
        "                \"description\": f\"Extract the {date} La Liga Standing into entities\"\n",
        "            }\n",
        "            episodes.append(episode)\n",
        "\n",
        "    print(f\"✅ Found {len(episodes)} relevant team standings\")\n",
        "    return episodes\n",
        "\n",
        "\n",
        "def get_topscorers_table(url, teams_filter, date):\n",
        "    \"\"\"Extract top scorers data from Wikipedia.\"\"\"\n",
        "    print(f\"⚽ Fetching top scorers data for {date}...\")\n",
        "\n",
        "    top_soccer_table = pd.read_html(url)[7]\n",
        "    top_soccer_table = top_soccer_table.rename(columns={\n",
        "        \"Goals[51]\": \"Season Goals\"})\n",
        "\n",
        "    top_soccer_table['Seasion'] = date\n",
        "\n",
        "    episodes = []\n",
        "    for row in top_soccer_table.to_dict(orient=\"records\"):\n",
        "        if row[\"Club\"] in teams_filter:\n",
        "            episode = {\n",
        "                \"content\": row,\n",
        "                \"type\": EpisodeType.json,\n",
        "                \"description\": f\"Extract the {date} La Liga top player stats into different entities\"\n",
        "            }\n",
        "            episodes.append(episode)\n",
        "\n",
        "    print(f\"✅ Found {len(episodes)} relevant top scorers\")\n",
        "    return episodes\n",
        "\n",
        "\n",
        "def get_article_from_url(url):\n",
        "    \"\"\"Scrape article content from a URL.\"\"\"\n",
        "    print(f\"📰 Fetching article from: {url}\")\n",
        "\n",
        "    headers = {\"User-Agent\": \"Mozilla/5.0\"}\n",
        "    response = requests.get(url, headers=headers)\n",
        "    soup = BeautifulSoup(response.text, 'html.parser')\n",
        "\n",
        "    # Extract date\n",
        "    date_meta = soup.find(\"meta\", {\"name\": \"DC.date.issued\"})\n",
        "    article_date = date_meta[\"content\"] if date_meta and date_meta.get(\"content\") else \"Date not found\"\n",
        "\n",
        "    # Extract article text\n",
        "    paragraphs = soup.find_all(\"p\")\n",
        "    filtered = [p.get_text(strip=True) for p in paragraphs if len(p.get_text(strip=True)) > 50]\n",
        "    article_text = \"\\n\\n\".join(filtered).encode(\"utf-8\", \"ignore\").decode(\"utf-8\")\n",
        "    article_text = article_text.replace(\"í\", \"i\")\n",
        "\n",
        "    print(\"✅ Article extracted successfully\")\n",
        "    return article_date, article_text\n",
        "\n",
        "\n",
        "async def search_and_display(graphiti, query, num_results=5):\n",
        "    \"\"\"Search the graph and display results in a clean format.\"\"\"\n",
        "    print(f\"🔍 Searching for: '{query}'\")\n",
        "    print(\"-\" * 50)\n",
        "\n",
        "    results = await graphiti.search(query, num_results=num_results)\n",
        "\n",
        "    for i, r in enumerate(results, 1):\n",
        "        print(f\"{i}. {r.fact}\")\n",
        "        print(f\"   Label: {r.name}\")\n",
        "        print(f\"   📅 Valid from: {r.valid_at}\")\n",
        "        if r.invalid_at:\n",
        "            print(f\"   ❌ Invalid at: {r.invalid_at}\")\n",
        "        print()\n",
        "\n",
        "    return results\n"
      ]
    },
    {
      "cell_type": "markdown",
      "metadata": {
        "id": "Lg4dna6vQeDq"
      },
      "source": [
        "## 🚀 Initialize Database Connection\n",
        "\n",
        "Now let's connect to FalkorDB and initialize our Graphiti instance:"
      ]
    },
    {
      "cell_type": "code",
      "execution_count": null,
      "metadata": {
        "id": "ZF8velwM7g9n"
      },
      "outputs": [],
      "source": [
        "# Set up API keys and database connection\n",
        "os.environ[\"OPENAI_API_KEY\"] = userdata.get('OPENAI_API_KEY')\n",
        "\n",
        "# Initialize FalkorDB driver\n",
        "falkor_driver = FalkorDriver(\n",
        "    host=userdata.get('FALKORDB_HOST'),\n",
        "    port=userdata.get('FALKORDB_PORT'),\n",
        "    username=userdata.get('FALKORDB_USERNAME'),\n",
        "    password=userdata.get('FALKORDB_PASSWORD'),\n",
        "    database=group_id\n",
        ")\n",
        "\n",
        "# Initialize Graphiti\n",
        "graphiti = Graphiti(graph_driver=falkor_driver)\n",
        "\n",
        "# Build necessary indices and constraints\n",
        "await graphiti.build_indices_and_constraints()\n"
      ]
    },
    {
      "cell_type": "markdown",
      "metadata": {
        "id": "Qp-AdkOcQeDr"
      },
      "source": [
        "## 📊 Part 1: Structured Data - La Liga Standings\n",
        "\n",
        "Let's start by ingesting structured data from Wikipedia about La Liga standings:\n",
        "\n",
        "La Liga Standings (2023/24)"
      ]
    },
    {
      "cell_type": "code",
      "execution_count": null,
      "metadata": {
        "colab": {
          "base_uri": "https://localhost:8080/"
        },
        "id": "fAMHW8sKKQzl",
        "outputId": "99ead2e2-7726-4a68-c28c-588b3b637d30"
      },
      "outputs": [
        {
          "output_type": "stream",
          "name": "stdout",
          "text": [
            "🏆 Fetching standings data for 2023-07-25-2024-05-25...\n",
            "✅ Found 2 relevant team standings\n",
            "\n",
            "📋 2023/24 Season Data:\n",
            "Team: Real Madrid, Points: 95, Position: 1\n",
            "Team: Barcelona, Points: 85, Position: 2\n",
            "📝 Adding 2 episodes to graph...\n",
            "✅ Successfully added 2 episodes!\n"
          ]
        }
      ],
      "source": [
        "# Configuration for our data extraction\n",
        "standing_2324_url = 'https://en.wikipedia.org/wiki/2023%E2%80%9324_La_Liga'\n",
        "TARGET_TEAMS = {\"Real Madrid\", \"Barcelona\"}  # Focus on El Clasico teams\n",
        "relevant_date = '2023-07-25-2024-05-25'\n",
        "\n",
        "# Extract standings data\n",
        "episodes_2324 = get_standing_table(standing_2324_url, TARGET_TEAMS, relevant_date)\n",
        "\n",
        "# Display what we extracted\n",
        "print(\"\\n📋 2023/24 Season Data:\")\n",
        "for episode in episodes_2324:\n",
        "    content = episode['content']\n",
        "    print(f\"Team: {content['TeamName']}, Points: {content['Season Points']}, Position: {content['Season Position']}\")\n",
        "\n",
        "# Add 2023/24 standings to the graph\n",
        "await add_episodes_to_graph(graphiti, episodes_2324, group_id, prefix=\"LaLiga 23/24 Standings\")"
      ]
    },
    {
      "cell_type": "markdown",
      "metadata": {
        "id": "b0qF35LaQeDr"
      },
      "source": [
        "Now let's add the current season data:\n",
        "\n",
        "La Liga Standings (2024/25)"
      ]
    },
    {
      "cell_type": "code",
      "execution_count": null,
      "metadata": {
        "colab": {
          "base_uri": "https://localhost:8080/"
        },
        "id": "VA9pJNqTQeDr",
        "outputId": "ebbb47f9-d94d-4a63-c2ed-4bcde67215a1"
      },
      "outputs": [
        {
          "output_type": "stream",
          "name": "stdout",
          "text": [
            "🏆 Fetching standings data for 2024-07-25-2025-05-25...\n",
            "✅ Found 2 relevant team standings\n",
            "\n",
            "📋 2024/25 Season Data:\n",
            "Team: Barcelona, Points: 88, Position: 1\n",
            "Team: Real Madrid, Points: 84, Position: 2\n",
            "📝 Adding 2 episodes to graph...\n",
            "✅ Successfully added 2 episodes!\n"
          ]
        }
      ],
      "source": [
        "standing_2425_url = 'https://en.wikipedia.org/wiki/2024%E2%80%9325_La_Liga'\n",
        "relevant_date = '2024-07-25-2025-05-25'\n",
        "\n",
        "# Extract current season standings\n",
        "episodes_2425 = get_standing_table(standing_2425_url, TARGET_TEAMS, relevant_date)\n",
        "\n",
        "# Display current season data\n",
        "print(\"\\n📋 2024/25 Season Data:\")\n",
        "for episode in episodes_2425:\n",
        "    content = episode['content']\n",
        "    print(f\"Team: {content['TeamName']}, Points: {content['Season Points']}, Position: {content['Season Position']}\")\n",
        "\n",
        "# Add to graph\n",
        "await add_episodes_to_graph(graphiti, episodes_2425, group_id, prefix=\"LaLiga 24/25 Standings\")"
      ]
    },
    {
      "cell_type": "markdown",
      "metadata": {
        "id": "9lpoqsTQQeDs"
      },
      "source": [
        "## ⚽ Part 2: Player Performance Data - Top Scorers\n",
        "\n",
        "Let's also add player performance data:"
      ]
    },
    {
      "cell_type": "code",
      "execution_count": null,
      "metadata": {
        "colab": {
          "base_uri": "https://localhost:8080/"
        },
        "id": "cx4fy0wBSpz6",
        "outputId": "2eb4488d-bb40-4d08-ef30-222f7000a1ba"
      },
      "outputs": [
        {
          "output_type": "stream",
          "name": "stdout",
          "text": [
            "⚽ Fetching top scorers data for Season 24/25...\n",
            "✅ Found 3 relevant top scorers\n",
            "📝 Adding 3 episodes to graph...\n",
            "✅ Successfully added 3 episodes!\n"
          ]
        }
      ],
      "source": [
        "# Extract top scorers data\n",
        "top_scorers_url = 'https://en.wikipedia.org/wiki/2024%E2%80%9325_La_Liga'\n",
        "relevant_date = 'Season 24/25'\n",
        "\n",
        "episodes_scorers = get_topscorers_table(top_scorers_url, TARGET_TEAMS, relevant_date)\n",
        "\n",
        "# Add top scorers to graph\n",
        "await add_episodes_to_graph(graphiti, episodes_scorers, group_id, prefix=\"LaLiga 24/25 Top Scorers\")"
      ]
    },
    {
      "cell_type": "markdown",
      "metadata": {
        "id": "xeYI3LSuVyaC"
      },
      "source": [
        "## 🔍 Graph-Based Query #1\n",
        "\n",
        "Let's test our knowledge graph with some queries:"
      ]
    },
    {
      "cell_type": "code",
      "execution_count": null,
      "metadata": {
        "colab": {
          "base_uri": "https://localhost:8080/"
        },
        "id": "a1r83irK8WPM",
        "outputId": "73b3d8ce-3ad3-4679-8863-cc5c11cb0dac"
      },
      "outputs": [
        {
          "output_type": "stream",
          "name": "stdout",
          "text": [
            "🔍 Searching for: 'What was Real Madrid’s final points at the end of each season?'\n",
            "--------------------------------------------------\n",
            "1. Real Madrid has 84 season points in the 2024-07-25 to 2025-05-25 period.\n",
            "   Label: HAS_SEASON_POINTS\n",
            "   📅 Valid from: 2024-07-25 00:00:00+00:00\n",
            "   ❌ Invalid at: 2025-05-25 00:00:00+00:00\n",
            "\n",
            "2. Real Madrid has 95 season points in the period 2023-07-25 to 2024-05-25.\n",
            "   Label: HAS_SEASON_POINTS\n",
            "   📅 Valid from: 2023-07-25 00:00:00+00:00\n",
            "   ❌ Invalid at: 2024-05-25 00:00:00+00:00\n",
            "\n",
            "3. Real Madrid has 26 season wins in the 2024-07-25 to 2025-05-25 period.\n",
            "   Label: HAS_SEASON_WINS\n",
            "   📅 Valid from: 2024-07-25 00:00:00+00:00\n",
            "   ❌ Invalid at: 2025-05-25 00:00:00+00:00\n",
            "\n",
            "4. Real Madrid has 29 season wins in the period 2023-07-25 to 2024-05-25.\n",
            "   Label: HAS_SEASON_WINS\n",
            "   📅 Valid from: 2023-07-25 00:00:00+00:00\n",
            "   ❌ Invalid at: 2024-05-25 00:00:00+00:00\n",
            "\n",
            "5. Real Madrid has season position 1 in the period 2023-07-25 to 2024-05-25.\n",
            "   Label: HAS_SEASON_POSITION\n",
            "   📅 Valid from: 2023-07-25 00:00:00+00:00\n",
            "   ❌ Invalid at: 2024-05-25 00:00:00+00:00\n",
            "\n"
          ]
        }
      ],
      "source": [
        "# Query about Real Madrid's performance\n",
        "fact_results = await search_and_display(graphiti, \"What was Real Madrid’s final points at the end of each season?\")"
      ]
    },
    {
      "cell_type": "markdown",
      "metadata": {
        "id": "qdXaFB9FQeDs"
      },
      "source": [
        "## 📰 Part 3: Unstructured Data - News Article\n",
        "\n",
        "Now let's add some unstructured data from news articles:"
      ]
    },
    {
      "cell_type": "code",
      "execution_count": null,
      "metadata": {
        "colab": {
          "base_uri": "https://localhost:8080/"
        },
        "id": "Yl0KuZE3QeDs",
        "outputId": "bc2c4f2d-5060-4ca5-ee5a-5c28c6175049"
      },
      "outputs": [
        {
          "output_type": "stream",
          "name": "stdout",
          "text": [
            "📰 Fetching article from: https://www.espn.com/soccer/story/_/id/45783151/marcus-rashford-arrives-barcelona-loan-man-united\n",
            "✅ Article extracted successfully\n",
            "\n",
            "📰 Article Preview:\n",
            "Mark Ogden discusses Marcus Rashford's potential move to Barcelona after the Spanish club were given permission to speak to the player. (2:01)\n",
            "\n",
            "Marcus Rashfordlanded inBarcelonaon Sunday ahead of completing a season-long loan move fromManchester United.\n",
            "\n",
            "Rashford, 27, will undergo a medical early in the week and, if everything goes to plan, will be presented as a Barça player before the club head off on tour, a source told ESPN.\n",
            "\n",
            "Barça fly to Asia on Thursday and coach Hansi Flick was keen to have Rashford with the team in Japan and South Korea to give him as much time as possible to bed in before the season starts in August.\n",
            "\n",
            "- Sources:Rashford close to Barcelona loan move-Nico Williams explains 10-year Athletic extension- Sources:Man Utd close on Mbeumo before U.S. tour\n",
            "\n",
            "Rashford was cle...\n",
            "\n",
            "📝 Adding 1 episodes to graph...\n",
            "✅ Successfully added 1 episodes!\n"
          ]
        }
      ],
      "source": [
        "# Scrape a football news article\n",
        "article_url = \"https://www.espn.com/soccer/story/_/id/45783151/marcus-rashford-arrives-barcelona-loan-man-united\"\n",
        "article_date, article_text = get_article_from_url(article_url)\n",
        "\n",
        "# Create episode from article\n",
        "espn_episode = {\n",
        "    'content': f\"{article_date}\\n\\n{article_text}\",\n",
        "    'type': EpisodeType.text,\n",
        "    'description': \"Football transfer news and rumors\"\n",
        "}\n",
        "print(\"\\n📰 Article Preview:\")\n",
        "print(article_text[:800] + \"...\\n\")\n",
        "\n",
        "# Add article to graph\n",
        "await add_episodes_to_graph(graphiti, [espn_episode], group_id, prefix=\"ESPN Transfer News\")\n",
        "\n"
      ]
    },
    {
      "cell_type": "markdown",
      "metadata": {
        "id": "jq8hil7yQeDs"
      },
      "source": [
        "## 🔍 Graph-Based Query #2\n",
        "\n",
        "Let's query about transfer rumors:"
      ]
    },
    {
      "cell_type": "code",
      "execution_count": null,
      "metadata": {
        "id": "Z1Bvyl3WQeDt",
        "colab": {
          "base_uri": "https://localhost:8080/"
        },
        "outputId": "da1605c9-639b-4b51-ace4-4a0d1adfc027"
      },
      "outputs": [
        {
          "output_type": "stream",
          "name": "stdout",
          "text": [
            "🔍 Searching for: 'Who are the players rumored to move to Barcelona?'\n",
            "--------------------------------------------------\n",
            "1. Mark Ogden discusses Marcus Rashford's potential move to Barcelona after the Spanish club were given permission to speak to the player.\n",
            "   Label: DISCUSS\n",
            "   📅 Valid from: 2025-07-20 20:37:00+00:00\n",
            "\n",
            "2. Robert Lewandowski plays for Barcelona.\n",
            "   Label: PLAYS_FOR\n",
            "   📅 Valid from: 2025-08-07 13:39:34+00:00\n",
            "\n",
            "3. Raphinha plays for Barcelona.\n",
            "   Label: PLAYS_FOR\n",
            "   📅 Valid from: 2025-08-07 13:39:40+00:00\n",
            "\n",
            "4. Marcus Rashford landed in Barcelona on Sunday ahead of completing a season-long loan move from Manchester United.\n",
            "   Label: LOANED_TO\n",
            "   📅 Valid from: 2025-07-20 00:00:00+00:00\n",
            "\n",
            "5. Barcelona has season position 2 in the 2023-07-25 to 2024-05-25 period.\n",
            "   Label: HAS_SEASON_POSITION\n",
            "   📅 Valid from: 2023-07-25 00:00:00+00:00\n",
            "   ❌ Invalid at: 2024-05-25 00:00:00+00:00\n",
            "\n"
          ]
        }
      ],
      "source": [
        "# Query about Barcelona transfer rumors\n",
        "fact_results = await search_and_display(graphiti, \"Who are the players rumored to move to Barcelona?\")"
      ]
    },
    {
      "cell_type": "markdown",
      "metadata": {
        "id": "FSH2PsG7QeDt"
      },
      "source": [
        "## 🎯 Node Search\n",
        "\n",
        "Graphiti also supports searching for specific entities (nodes) in the graph:"
      ]
    },
    {
      "cell_type": "code",
      "execution_count": null,
      "metadata": {
        "id": "DZGiU0efQeDt",
        "colab": {
          "base_uri": "https://localhost:8080/"
        },
        "outputId": "f602fd50-ebff-4b0d-8a21-10be62ced73b"
      },
      "outputs": [
        {
          "output_type": "stream",
          "name": "stdout",
          "text": [
            "🔍 Node Search Results:\n",
            "------------------------------\n",
            "1. Name: Hansi Flick\n",
            "   Summary: Hansi Flick is a football coach who was keen to have Marcus Rashford join Barcelona in the upcoming season. The transfer involved Rashford moving on a season-long loan from Manchester United, with an ...\n",
            "\n",
            "2. Name: Robert Lewandowski\n",
            "   Summary: Marcus Rashford is set to join Barcelona on a season-long loan from Manchester United, with an option for a permanent transfer next summer. The deal is reported to be around €30 million. Rashford, 27,...\n",
            "\n"
          ]
        }
      ],
      "source": [
        "# Configure node search\n",
        "node_search_config = NODE_HYBRID_SEARCH_RRF.model_copy(deep=True)\n",
        "node_search_config.limit = 2\n",
        "\n",
        "# Search for specific entity\n",
        "node_search_results = await graphiti._search(\n",
        "    query='Hansi Flick',\n",
        "    config=node_search_config\n",
        ")\n",
        "\n",
        "print(\"🔍 Node Search Results:\")\n",
        "print(\"-\" * 30)\n",
        "for i, node in enumerate(node_search_results.nodes, 1):\n",
        "    print(f\"{i}. Name: {node.name}\")\n",
        "    print(f\"   Summary: {node.summary[:200]}...\")\n",
        "    print()"
      ]
    },
    {
      "cell_type": "markdown",
      "metadata": {
        "id": "o3MG5TyGQeDt"
      },
      "source": [
        "## 🔍 Graph-Based Query #3\n",
        "\n",
        "Let's ask about Barcelona's recent performance:"
      ]
    },
    {
      "cell_type": "code",
      "execution_count": null,
      "metadata": {
        "id": "gcQOyAA3QeDt",
        "colab": {
          "base_uri": "https://localhost:8080/"
        },
        "outputId": "ac25d160-ad26-4e97-a620-be7dc35b68a6"
      },
      "outputs": [
        {
          "output_type": "stream",
          "name": "stdout",
          "text": [
            "🔍 Searching for: 'What the latest news about Manchester United'\n",
            "--------------------------------------------------\n",
            "1. Mark Ogden discusses Marcus Rashford's potential move to Barcelona after the Spanish club were given permission to speak to the player.\n",
            "   Label: DISCUSS\n",
            "   📅 Valid from: 2025-07-20 20:37:00+00:00\n",
            "\n",
            "2. Marcus Rashford was told by coach Ruben Amorim that he does not feature in his plans at Old Trafford.\n",
            "   Label: COACHED_BY\n",
            "   📅 Valid from: None\n",
            "\n",
            "3. Marcus Rashford is on loan from Manchester United.\n",
            "   Label: OWNED_BY\n",
            "   📅 Valid from: 2025-07-20 00:00:00+00:00\n",
            "\n",
            "4. Marcus Rashford has not played for United since facing Viktoria Plzen in the Europa League last December.\n",
            "   Label: PLAYED_AGAINST\n",
            "   📅 Valid from: 2024-12-01 00:00:00+00:00\n",
            "\n",
            "5. Marcus Rashford landed in Barcelona on Sunday ahead of completing a season-long loan move from Manchester United.\n",
            "   Label: LOANED_TO\n",
            "   📅 Valid from: 2025-07-20 00:00:00+00:00\n",
            "\n"
          ]
        }
      ],
      "source": [
        "# Query about Barcelona's wins\n",
        "fact_results = await search_and_display(graphiti, \"What the latest news about Manchester United\")"
      ]
    },
    {
      "cell_type": "markdown",
      "metadata": {
        "id": "TkYfbm9OapaQ"
      },
      "source": [
        "## 🔄 Part 4: Real-time Updates\n",
        "\n",
        "One of the key advantages of knowledge graphs is their ability to handle updates and maintain temporal consistency:"
      ]
    },
    {
      "cell_type": "code",
      "execution_count": null,
      "metadata": {
        "id": "b86z9rLNQeDx",
        "colab": {
          "base_uri": "https://localhost:8080/"
        },
        "outputId": "4a34c89f-1053-42af-ebfd-60e1007c7d5e"
      },
      "outputs": [
        {
          "output_type": "stream",
          "name": "stdout",
          "text": [
            "📝 Adding 2 episodes to graph...\n",
            "✅ Successfully added 2 episodes!\n"
          ]
        }
      ],
      "source": [
        "# Simulate new transfer updates\n",
        "new_updates = [\n",
        "    {\n",
        "        \"content\": \"Lionel Messi is rumored to be transferring to Barcelona from Inter Miami.\",\n",
        "        \"type\": EpisodeType.message,\n",
        "        \"description\": \"Latest transfer rumor update\"\n",
        "    },\n",
        "    {\n",
        "        \"content\": \"Mark Ogden reports that Marcus Rashford has renewed his contract with Manchester United until 2028 and he is no longer connected to any move or loan to Barcelona anymore.\",\n",
        "        \"type\": EpisodeType.message,\n",
        "        \"description\": \"Previous facts updates - update the old facts\"\n",
        "    }\n",
        "]\n",
        "\n",
        "# Add updates to graph\n",
        "await add_episodes_to_graph(graphiti, new_updates, group_id, prefix=\"Transfer Update\")"
      ]
    },
    {
      "cell_type": "markdown",
      "metadata": {
        "id": "JGk_slb6QeDy"
      },
      "source": [
        "## 🔍 Updated Query Results\n",
        "\n",
        "Let's see how our graph handles the updated information:"
      ]
    },
    {
      "cell_type": "code",
      "execution_count": null,
      "metadata": {
        "id": "kz5fkkKvQeDy",
        "colab": {
          "base_uri": "https://localhost:8080/"
        },
        "outputId": "0d0648b2-3f74-4dc2-b186-5e44eb26865d"
      },
      "outputs": [
        {
          "output_type": "stream",
          "name": "stdout",
          "text": [
            "🔍 Searching for: 'Who are the players rumored to move to Barcelona?'\n",
            "--------------------------------------------------\n",
            "1. Lionel Messi is rumored to be transferring to Barcelona from Inter Miami.\n",
            "   Label: RUMORED_TO_TRANSFER_FROM\n",
            "   📅 Valid from: 2025-08-07 13:46:58+00:00\n",
            "\n",
            "2. Lionel Messi is rumored to be transferring to Barcelona from Inter Miami.\n",
            "   Label: RUMORED_TO_TRANSFER_TO\n",
            "   📅 Valid from: 2025-08-07 13:46:58+00:00\n",
            "\n",
            "3. Mark Ogden discusses Marcus Rashford's potential move to Barcelona after the Spanish club were given permission to speak to the player.\n",
            "   Label: DISCUSS\n",
            "   📅 Valid from: 2025-07-20 20:37:00+00:00\n",
            "\n",
            "4. Robert Lewandowski plays for Barcelona.\n",
            "   Label: PLAYS_FOR\n",
            "   📅 Valid from: 2025-08-07 13:39:34+00:00\n",
            "\n",
            "5. Raphinha plays for Barcelona.\n",
            "   Label: PLAYS_FOR\n",
            "   📅 Valid from: 2025-08-07 13:39:40+00:00\n",
            "\n"
          ]
        }
      ],
      "source": [
        "# Query again about Barcelona transfers - should show updated information\n",
        "fact_results = await search_and_display(graphiti, \"Who are the players rumored to move to Barcelona?\")"
      ]
    },
    {
      "cell_type": "code",
      "execution_count": null,
      "metadata": {
        "id": "gPwcPIj0kDyp",
        "colab": {
          "base_uri": "https://localhost:8080/"
        },
        "outputId": "7846cc39-473f-4ac6-e91a-551b5e525a9f"
      },
      "outputs": [
        {
          "output_type": "stream",
          "name": "stdout",
          "text": [
            "🔍 Searching for: 'What is the latest news about Manchester United?'\n",
            "--------------------------------------------------\n",
            "1. Mark Ogden reports that Marcus Rashford has renewed his contract with Manchester United until 2028.\n",
            "   Label: REPORTED_BY\n",
            "   📅 Valid from: 2025-08-07 13:47:06+00:00\n",
            "\n",
            "2. Marcus Rashford has renewed his contract with Manchester United until 2028.\n",
            "   Label: HAS_RENEWED_CONTRACT_WITH\n",
            "   📅 Valid from: 2025-08-07 13:47:06+00:00\n",
            "   ❌ Invalid at: 2028-01-01 00:00:00+00:00\n",
            "\n",
            "3. Marcus Rashford has not played for United since facing Viktoria Plzen in the Europa League last December.\n",
            "   Label: PLAYED_AGAINST\n",
            "   📅 Valid from: 2024-12-01 00:00:00+00:00\n",
            "\n",
            "4. Marcus Rashford is on loan from Manchester United.\n",
            "   Label: OWNED_BY\n",
            "   📅 Valid from: 2025-07-20 00:00:00+00:00\n",
            "\n",
            "5. Marcus Rashford was told by coach Ruben Amorim that he does not feature in his plans at Old Trafford.\n",
            "   Label: COACHED_BY\n",
            "   📅 Valid from: None\n",
            "\n"
          ]
        }
      ],
      "source": [
        "fact_results = await search_and_display(graphiti, \"What is the latest news about Manchester United?\")"
      ]
    },
    {
      "cell_type": "markdown",
      "metadata": {
        "id": "4CMY8wT0QeDy"
      },
      "source": [
        "## 🎬 Complex Queries\n",
        "\n",
        "Let's demonstrate the power of graph-based retrieval with complex queries:"
      ]
    },
    {
      "cell_type": "code",
      "execution_count": null,
      "metadata": {
        "id": "VvtYUf7HbveD"
      },
      "outputs": [],
      "source": [
        "from openai import OpenAI\n",
        "from typing import Optional\n",
        "from datetime import datetime\n",
        "\n",
        "client = OpenAI(api_key=userdata.get('OPENAI_API_KEY'))\n",
        "\n",
        "class FactWithTime:\n",
        "    def __init__(self, fact: str, valid_at: datetime, invalid_at: Optional[datetime]):\n",
        "        self.fact = fact\n",
        "        self.valid_at = valid_at\n",
        "        self.invalid_at = invalid_at\n",
        "\n",
        "def format_temporal_context(facts: list[FactWithTime]) -> str:\n",
        "    lines = []\n",
        "    for f in facts:\n",
        "        line = f\"- {f.fact.strip()} (valid from\"\n",
        "        if f.valid_at:\n",
        "          line += f\"{f.valid_at.strftime('%Y-%m-%d')}\"\n",
        "        else:\n",
        "          line += \"now\"\n",
        "\n",
        "        if f.invalid_at:\n",
        "            line += f\" to {f.invalid_at.strftime('%Y-%m-%d')}\"\n",
        "        else:\n",
        "            line += \", still valid\"\n",
        "        line += \")\"\n",
        "        lines.append(line)\n",
        "    return \"\\n\".join(lines)\n",
        "\n",
        "async def graphiti_agent(graphiti, query: str, num_results: int = 12, model: str = \"gpt-4\") -> str:\n",
        "    print(f\"🔍 Searching Graphiti for: '{query}'\")\n",
        "    results = await graphiti.search(query, num_results=num_results)\n",
        "\n",
        "    facts = [\n",
        "        FactWithTime(fact=r.fact, valid_at=r.valid_at, invalid_at=r.invalid_at)\n",
        "        for r in results\n",
        "    ]\n",
        "    context = format_temporal_context(facts)\n",
        "    system_prompt = (\n",
        "    \"You are Graphiti, an expert knowledge graph agent.\\n\"\n",
        "    \"You are given a list of facts, each with a date range indicating when it was valid.\\n\"\n",
        "    \"Some facts describe past events but may have been added or validated later.\\n\\n\"\n",
        "    \"Your task is to answer the user's question using the facts that describe the relevant time period.\\n\"\n",
        "    \"The date when a fact became valid is not the same as the time it describes — for example, a fact added in 2025 can still describe the 2023/24 season.\\n\"\n",
        "    \"Therefore, use any fact that describes the relevant time period, even if the fact itself became valid later.\\n\\n\"\n",
        "    \"If no fact describes the relevant time period, explain clearly why the available facts are insufficient to answer the question.\\n\"\n",
        "    \"Be transparent about missing or incomplete data if you can't fully answer.\\n\\n\"\n",
        "    \"Respond with a **concise**, factual answer. Use bullet points if helpful, but avoid repeating the context or adding unnecessary commentary.\"\n",
        "    )\n",
        "    response = client.chat.completions.create(\n",
        "        model=model,\n",
        "        messages=[\n",
        "            {\"role\": \"system\", \"content\": system_prompt},\n",
        "            {\"role\": \"user\", \"content\": f\"Facts:\\n{context}\\n\\nQuestion:\\n{query.strip()}\"}\n",
        "        ],\n",
        "        temperature=0.5,\n",
        "        max_tokens=500\n",
        "    )\n",
        "\n",
        "    return response.choices[0].message.content.strip()\n"
      ]
    },
    {
      "cell_type": "code",
      "execution_count": null,
      "metadata": {
        "id": "CpASp1MSa5b-",
        "colab": {
          "base_uri": "https://localhost:8080/"
        },
        "outputId": "b1967748-7910-4dd1-8006-329def319c1e"
      },
      "outputs": [
        {
          "output_type": "stream",
          "name": "stdout",
          "text": [
            "🎯 Complex Query Demo\n",
            "==================================================\n",
            "🔍 Searching Graphiti for: 'Compare Real Madrid and Barcelona performance between the 2023/24 and 2024/25 seasons.'\n",
            "✅ Answer: **2023/24 Season:**\n",
            "- Real Madrid:\n",
            "  - Position: 1\n",
            "  - Points: 95\n",
            "  - Wins: 29\n",
            "- Barcelona:\n",
            "  - Position: 2\n",
            "  - Points: 85\n",
            "  - Wins: 26\n",
            "\n",
            "**2024/25 Season:**\n",
            "- Real Madrid:\n",
            "  - Position: 2\n",
            "  - Points: 84\n",
            "  - Wins: 26\n",
            "- Barcelona:\n",
            "  - Position: 1\n",
            "  - Points: 88\n",
            "  - Wins: 28\n",
            "\n",
            "In the 2023/24 season, Real Madrid performed better than Barcelona, but in the 2024/25 season, Barcelona outperformed Real Madrid.\n",
            "--------------------------------------------------\n",
            "🔍 Searching Graphiti for: 'Where does the player with the most goals currently play?'\n",
            "✅ Answer: The player with the most goals in the 24/25 season, according to the provided facts, is Kylian Mbappé with 31 goals. He played for Real Madrid during that season.\n",
            "--------------------------------------------------\n",
            "🔍 Searching Graphiti for: 'How many points was to the club that Messi rumored to'\n",
            "✅ Answer: Lionel Messi is rumored to be transferring to Barcelona. The points for Barcelona for the latest available season (2024-07-25 to 2025-05-25) are 88.\n",
            "--------------------------------------------------\n"
          ]
        }
      ],
      "source": [
        "# 🎯 Complex Query Demo — requires reasoning across multiple facts\n",
        "print(\"🎯 Complex Query Demo\")\n",
        "print(\"=\" * 50)\n",
        "\n",
        "queries = [\n",
        "    \"Compare Real Madrid and Barcelona performance between the 2023/24 and 2024/25 seasons.\",\n",
        "    \"Where does the player with the most goals currently play?\",\n",
        "    \"How many points was to the club that Messi rumored to\",\n",
        "]\n",
        "\n",
        "for query in queries:\n",
        "    try:\n",
        "        answer = await graphiti_agent(graphiti, query)\n",
        "        print(\"✅ Answer:\", answer)\n",
        "    except Exception as e:\n",
        "        print(\"❌ Error:\", str(e))\n",
        "    print(\"-\" * 50)\n"
      ]
    }
  ],
  "metadata": {
    "colab": {
      "provenance": [],
      "include_colab_link": true
    },
    "kernelspec": {
      "display_name": ".venv",
      "language": "python",
      "name": "python3"
    },
    "language_info": {
      "codemirror_mode": {
        "name": "ipython",
        "version": 3
      },
      "file_extension": ".py",
      "mimetype": "text/x-python",
      "name": "python",
      "nbconvert_exporter": "python",
      "pygments_lexer": "ipython3",
      "version": "3.12.3"
    }
  },
  "nbformat": 4,
  "nbformat_minor": 0
}